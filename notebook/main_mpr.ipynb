{
 "cells": [
  {
   "cell_type": "markdown",
   "metadata": {},
   "source": [
    "# NB1: MPR framework\n",
    "-----"
   ]
  },
  {
   "cell_type": "markdown",
   "metadata": {},
   "source": [
    "## module loading..."
   ]
  },
  {
   "cell_type": "code",
   "execution_count": null,
   "metadata": {},
   "outputs": [],
   "source": [
    "%matplotlib inline\n",
    "\n",
    "import os, sys\n",
    "\n",
    "import numpy as np\n",
    "import matplotlib.pyplot as plt\n",
    "import matplotlib as mpl\n",
    "\n",
    "import xarray as xr\n",
    "import pandas as pd\n",
    "\n",
    "from timeit import default_timer as timer\n",
    "\n",
    "print(\"\\nThe Python version: %s.%s.%s\" % sys.version_info[:3])\n",
    "print(xr.__name__, xr.__version__)\n",
    "print(pd.__name__, pd.__version__)\n",
    "\n",
    "sys.path.append('../')"
   ]
  },
  {
   "cell_type": "code",
   "execution_count": null,
   "metadata": {},
   "outputs": [],
   "source": [
    "# custom modules\n",
    "from mpr import print_date\n",
    "print_date()\n",
    "\n",
    "from mpr.IO import load_geophysical_attributes, GEO_ATTR_TYPE\n",
    "from mpr.IO import load_mapping_data\n",
    "from mpr.IO import write_param\n",
    "\n",
    "from mpr.scaling import horizontal_weighted_mean, vertical_weighted_mean\n",
    "\n",
    "from mpr.model_layer import comp_layer_weight"
   ]
  },
  {
   "cell_type": "code",
   "execution_count": null,
   "metadata": {},
   "outputs": [],
   "source": [
    "xr.set_options(file_cache_maxsize=1000);"
   ]
  },
  {
   "cell_type": "markdown",
   "metadata": {},
   "source": []
  },
  {
   "cell_type": "code",
   "execution_count": null,
   "metadata": {},
   "outputs": [],
   "source": [
    "#from dask_jobqueue import PBSCluster\n",
    "#cluster = PBSCluster(processes=9, threads=4, memory=\"108GB\",\n",
    "#                  walltime='00:40:00')\n",
    "#cluster.scale(jobs=3)"
   ]
  },
  {
   "cell_type": "code",
   "execution_count": null,
   "metadata": {
    "scrolled": true
   },
   "outputs": [],
   "source": [
    "#from dask.distributed import Client\n",
    "#client = Client(cluster)"
   ]
  },
  {
   "cell_type": "code",
   "execution_count": null,
   "metadata": {},
   "outputs": [],
   "source": [
    "#client"
   ]
  },
  {
   "cell_type": "markdown",
   "metadata": {},
   "source": [
    "-------------------------\n",
    "## Setup "
   ]
  },
  {
   "cell_type": "code",
   "execution_count": null,
   "metadata": {},
   "outputs": [],
   "source": [
    "mpr_data_dir = '/glade/p/ral/hap/mizukami/pnw-extrems/geospatial_data/geophysical/data_mpr'"
   ]
  },
  {
   "cell_type": "code",
   "execution_count": null,
   "metadata": {},
   "outputs": [],
   "source": [
    "mapping_file = 'spatialweights_grid_600m_to_HUC12.nc'\n",
    "mapping_vars = ['polyid', 'overlaps', 'weight', 'i_index', 'j_index', 'test']"
   ]
  },
  {
   "cell_type": "code",
   "execution_count": null,
   "metadata": {},
   "outputs": [],
   "source": [
    "soil_thickness  = [0.05, 0.1, 0.15, 0.3, 0.4, 1.0]\n",
    "model_thickness = [0.1, 0.3, 0.6]"
   ]
  },
  {
   "cell_type": "code",
   "execution_count": null,
   "metadata": {},
   "outputs": [],
   "source": [
    "param_list = {'theta_sat': {'comp_order': 1, 'vertical_scale': True, 'horizontal_scale': True,'dim': ['lyr', 'hru']}\n",
    "             }"
   ]
  },
  {
   "cell_type": "markdown",
   "metadata": {},
   "source": [
    "## 1. Load the data"
   ]
  },
  {
   "cell_type": "markdown",
   "metadata": {},
   "source": [
    "### 1.1. geophysical attributes\n",
    "\n"
   ]
  },
  {
   "cell_type": "code",
   "execution_count": null,
   "metadata": {},
   "outputs": [],
   "source": [
    "# load all the geophysical attributes.\n",
    "attr_data = load_geophysical_attributes()"
   ]
  },
  {
   "cell_type": "code",
   "execution_count": null,
   "metadata": {},
   "outputs": [],
   "source": [
    "print(attr_data)"
   ]
  },
  {
   "cell_type": "code",
   "execution_count": null,
   "metadata": {},
   "outputs": [],
   "source": []
  },
  {
   "cell_type": "markdown",
   "metadata": {},
   "source": [
    "### 1.2. mapping weight"
   ]
  },
  {
   "cell_type": "code",
   "execution_count": null,
   "metadata": {},
   "outputs": [],
   "source": [
    "mapping_data = load_mapping_data(root=mpr_data_dir, file=mapping_file, var_list=mapping_vars)"
   ]
  },
  {
   "cell_type": "code",
   "execution_count": null,
   "metadata": {},
   "outputs": [],
   "source": []
  },
  {
   "cell_type": "markdown",
   "metadata": {},
   "source": [
    "## 2. Compute parameters"
   ]
  },
  {
   "cell_type": "code",
   "execution_count": null,
   "metadata": {},
   "outputs": [],
   "source": [
    "param_native = {}\n",
    "\n",
    "# temp transfer functions\n",
    "kgm3_to_gcm3 = 0.001\n",
    "param_native['theta_sat'] = 0.788 + 0.001*attr_data['clay_pct']- 0.263*attr_data['bulk_density']*kgm3_to_gcm3"
   ]
  },
  {
   "cell_type": "code",
   "execution_count": null,
   "metadata": {},
   "outputs": [],
   "source": [
    "param_native['canopy_top'] = 0.75* attr_data['ch']\n",
    "param_native['canopy_bot'] = 0.50* param_native['canopy_top']"
   ]
  },
  {
   "cell_type": "code",
   "execution_count": null,
   "metadata": {},
   "outputs": [],
   "source": [
    "fig, axes = plt.subplots(ncols=1, nrows=1, sharex=True, sharey=True, figsize=(6, 4))\n",
    "param_native['theta_sat'][0,:,:].plot.pcolormesh();"
   ]
  },
  {
   "cell_type": "code",
   "execution_count": null,
   "metadata": {},
   "outputs": [],
   "source": []
  },
  {
   "cell_type": "markdown",
   "metadata": {},
   "source": [
    "## 3. Scaling parameters\n",
    "1. layer mapping computation based on soil and model layer thickness\n",
    "2. vertical scaling for soil layers\n",
    "3. horizontal scaling for all the parameters"
   ]
  },
  {
   "cell_type": "code",
   "execution_count": null,
   "metadata": {},
   "outputs": [],
   "source": [
    "# compute layer mapping data\n",
    "layer_weight = comp_layer_weight(soil_thickness, model_thickness)\n",
    "layer_weight"
   ]
  },
  {
   "cell_type": "code",
   "execution_count": null,
   "metadata": {},
   "outputs": [],
   "source": [
    "param_model = {}\n",
    "for param, meta in param_list.items():\n",
    "    print(f'Scaling {param}')\n",
    "    if meta['vertical_scale']:\n",
    "        print('  vertical-scaling')\n",
    "        param_native[param] = vertical_weighted_mean(layer_weight, param_native[param].values, 1)\n",
    "    param_model[param] = horizontal_weighted_mean(mapping_data, param_native[param], 1)"
   ]
  },
  {
   "cell_type": "code",
   "execution_count": null,
   "metadata": {},
   "outputs": [],
   "source": []
  },
  {
   "cell_type": "markdown",
   "metadata": {},
   "source": [
    "## 4. Output final parameters"
   ]
  },
  {
   "cell_type": "code",
   "execution_count": null,
   "metadata": {},
   "outputs": [],
   "source": [
    "write_param(param_model)"
   ]
  },
  {
   "cell_type": "code",
   "execution_count": null,
   "metadata": {},
   "outputs": [],
   "source": []
  },
  {
   "cell_type": "markdown",
   "metadata": {},
   "source": [
    "##  Experiment"
   ]
  },
  {
   "cell_type": "code",
   "execution_count": null,
   "metadata": {},
   "outputs": [],
   "source": [
    "FILL_VALUE = -9999.0\n",
    "\n",
    "def vertical_weighted_mean_test(mapping_data, origArrays, pvalue, default=FILL_VALUE):\n",
    "    \"\"\"Compute areal weighted generalized mean value of for all output polygons\n",
    "       \"\"\"\n",
    "    # numpy broadcasting rule\n",
    "    # https://numpy.org/doc/stable/user/basics.broadcasting.html\n",
    "    \n",
    "    # ogirinal grid: 3D [lat, lon, soil_lyr] -> target grid: 2D [lat, lon, model_lyr]\n",
    "    \n",
    "    orgArrays_reshaped = np.moveaxis(origArrays, 0, -1)\n",
    "    array_shape        = orgArrays_reshaped.shape  # original array [soil_lyr, lat, lon] -> [lat, lon, soil_lyr]\n",
    "    nDims              = len(array_shape)\n",
    "    \n",
    "    # TODO\n",
    "    # move these out of function\n",
    "    nMlyr       = len(mapping_data['overlaps'])\n",
    "    maxOverlaps = mapping_data['overlaps'].max()\n",
    "    \n",
    "    if nDims == 3:\n",
    "        wgtedVals   = np.zeros((array_shape[0], array_shape[1], nMlyr), dtype='float32')\n",
    "        matDataVals = np.zeros((array_shape[0], array_shape[1], nMlyr, maxOverlaps), dtype='float32')\n",
    "    else:\n",
    "        pass # add error check - array with other dimension is not supported.\n",
    "\n",
    "    # reformat var data into regular matrix matching weights format (nOutPolygons, maxOverlaps)\n",
    "    #   used advanced indexing to extract matching input grid indices\n",
    "    for ixm in range(0, nMlyr):\n",
    "        if mapping_data['overlaps'][ixm]>0:\n",
    "            if nDims == 3:\n",
    "                matDataVals[:, :, ixm, 0:mapping_data['overlaps'][ixm]] = \\\n",
    "                    orgArrays_reshaped[:, :, mapping_data['soil_index'][ixm,0:mapping_data['overlaps'][ixm]]]\n",
    "        else:\n",
    "            if nDims == 3:\n",
    "                matDataVals[:, :, ixm, 0] = default\n",
    "    \n",
    "    weight = np.broadcast_to(layer_weight['weight'], (array_shape[0], array_shape[1], *layer_weight['weight'].shape ))\n",
    "    if abs(pvalue) < 0.00001: # geometric mean\n",
    "        wgtedVals = exp(np.nansum(log(matDataVals)* weight, axis=nDims))\n",
    "    else:\n",
    "        wgtedVals = np.nansum(matDataVals**pvalue * weight, axis=nDims) **(1.0/pvalue)   # produces vector of weighted values\n",
    "        \n",
    "    return np.moveaxis(wgtedVals, -1, 0)"
   ]
  },
  {
   "cell_type": "code",
   "execution_count": null,
   "metadata": {},
   "outputs": [],
   "source": [
    "layer_weight['weight']"
   ]
  },
  {
   "cell_type": "code",
   "execution_count": null,
   "metadata": {},
   "outputs": [],
   "source": []
  },
  {
   "cell_type": "code",
   "execution_count": null,
   "metadata": {},
   "outputs": [],
   "source": [
    "array_shape = porosity.values.shape\n",
    "array_shape"
   ]
  },
  {
   "cell_type": "code",
   "execution_count": null,
   "metadata": {},
   "outputs": [],
   "source": [
    "#weight = np.tile(layer_weight['weight'], (3, 1, 1))\n",
    "weight = np.broadcast_to(layer_weight['weight'], (array_shape[1], array_shape[2], *layer_weight['weight'].shape ))\n",
    "weight = np.moveaxis(weight, -2, 0)\n",
    "weight.shape"
   ]
  },
  {
   "cell_type": "code",
   "execution_count": null,
   "metadata": {},
   "outputs": [],
   "source": [
    "weight[:,1,1,:]"
   ]
  },
  {
   "cell_type": "code",
   "execution_count": null,
   "metadata": {},
   "outputs": [],
   "source": [
    "from pylab import * \n",
    "weight.nbytes/1000/1000"
   ]
  },
  {
   "cell_type": "code",
   "execution_count": null,
   "metadata": {},
   "outputs": [],
   "source": [
    "a = np.moveaxis(porosity.values, 0, -1)\n",
    "a[:,:,0]"
   ]
  },
  {
   "cell_type": "code",
   "execution_count": null,
   "metadata": {},
   "outputs": [],
   "source": [
    "porosity[0,:,:].values"
   ]
  },
  {
   "cell_type": "code",
   "execution_count": null,
   "metadata": {},
   "outputs": [],
   "source": [
    "wgtedVals = horizontal_weighted_mean_test(mapping_data, porosity.values[0,:,:], 1)\n",
    "wgtedVals"
   ]
  },
  {
   "cell_type": "code",
   "execution_count": null,
   "metadata": {},
   "outputs": [],
   "source": [
    "mapping_data['i_index'][-1,0:mapping_data['overlaps'][-1]]\n",
    "mapping_data['j_index'][-1,0:mapping_data['overlaps'][-1]]\n",
    "\n",
    "maxOverlaps = mapping_data['overlaps'].max()\n",
    "matDataVals = np.zeros((1, maxOverlaps), dtype='float32')\n",
    "matDataVals.shape"
   ]
  },
  {
   "cell_type": "code",
   "execution_count": null,
   "metadata": {},
   "outputs": [],
   "source": [
    "mapping_data['weight'].shape"
   ]
  },
  {
   "cell_type": "code",
   "execution_count": null,
   "metadata": {},
   "outputs": [],
   "source": [
    "matDataVals[0, 0:mapping_data['overlaps'][-1]].shape"
   ]
  },
  {
   "cell_type": "code",
   "execution_count": null,
   "metadata": {},
   "outputs": [],
   "source": [
    "porsity_array = porosity[0,:,:].values\n",
    "matDataVals[0, 0:mapping_data['overlaps'][-1]] = porsity_array[mapping_data['j_index'][-1,0:mapping_data['overlaps'][-1]], mapping_data['i_index'][-1,0:mapping_data['overlaps'][-1]]]"
   ]
  },
  {
   "cell_type": "code",
   "execution_count": null,
   "metadata": {},
   "outputs": [],
   "source": [
    "matDataVals*mapping_data['weight'][-1,:]"
   ]
  },
  {
   "cell_type": "code",
   "execution_count": null,
   "metadata": {},
   "outputs": [],
   "source": [
    "mapping_data['weight'][-1,:]"
   ]
  },
  {
   "cell_type": "code",
   "execution_count": null,
   "metadata": {},
   "outputs": [],
   "source": []
  },
  {
   "cell_type": "code",
   "execution_count": null,
   "metadata": {},
   "outputs": [],
   "source": [
    "a = np.random.random((20,500,500))\n",
    "a.shape"
   ]
  },
  {
   "cell_type": "code",
   "execution_count": null,
   "metadata": {},
   "outputs": [],
   "source": [
    "start = timer()\n",
    "val = np.sum(a, axis=0)\n",
    "end = timer()\n",
    "print(end-start)"
   ]
  },
  {
   "cell_type": "code",
   "execution_count": null,
   "metadata": {},
   "outputs": [],
   "source": [
    "a1 = np.moveaxis(a, 0, -1)\n",
    "a1.shape"
   ]
  },
  {
   "cell_type": "code",
   "execution_count": null,
   "metadata": {},
   "outputs": [],
   "source": [
    "start = timer()\n",
    "np.sum(a1, axis=2)\n",
    "end = timer()\n",
    "print(end-start)"
   ]
  },
  {
   "cell_type": "code",
   "execution_count": null,
   "metadata": {},
   "outputs": [],
   "source": []
  }
 ],
 "metadata": {
  "kernelspec": {
   "display_name": "Python [conda env:anaconda3-cmip5_oconus]",
   "language": "python",
   "name": "conda-env-anaconda3-cmip5_oconus-py"
  },
  "language_info": {
   "codemirror_mode": {
    "name": "ipython",
    "version": 3
   },
   "file_extension": ".py",
   "mimetype": "text/x-python",
   "name": "python",
   "nbconvert_exporter": "python",
   "pygments_lexer": "ipython3",
   "version": "3.7.0"
  }
 },
 "nbformat": 4,
 "nbformat_minor": 4
}
